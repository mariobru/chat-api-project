{
 "cells": [
  {
   "cell_type": "code",
   "execution_count": 2,
   "metadata": {},
   "outputs": [
    {
     "name": "stdout",
     "output_type": "stream",
     "text": [
      "[[6, 'Danny Torrances Finger'], [2, 'Leia Organa'], [3, 'Tony Stark'], [4, 'Ellen Ripley'], [5, 'J. Jonah Jameson'], [7, 'Danny Torrance'], [0, 'John Wick'], [1, 'Mike Wazowski'], [8, 'Mario Bru'], [9, 'Felipe Ferrero'], [10, 'Marc Pomar'], [11, 'Julio Porto'], [12, 'Chiquito de la Calzada'], [13, 'Javi Garzas'], [14, 'Clara']]\n"
     ]
    }
   ],
   "source": [
    "import requests\n",
    "\n",
    "data = requests.get('http://localhost:8080/users').json()\n",
    "print(data)"
   ]
  },
  {
   "cell_type": "markdown",
   "metadata": {},
   "source": [
    "### Create User:"
   ]
  },
  {
   "cell_type": "code",
   "execution_count": 27,
   "metadata": {},
   "outputs": [
    {
     "name": "stdout",
     "output_type": "stream",
     "text": [
      "{'error': 'This name already exists! Try a new one ;)'}\n"
     ]
    }
   ],
   "source": [
    "new_name = {'name': 'Clarita'}\n",
    "userid = requests.post(\"http://localhost:8080/user/create\", data=new_name).json()\n",
    "print(userid)"
   ]
  },
  {
   "cell_type": "markdown",
   "metadata": {},
   "source": [
    "### Create chat:"
   ]
  },
  {
   "cell_type": "code",
   "execution_count": 9,
   "metadata": {},
   "outputs": [
    {
     "name": "stdout",
     "output_type": "stream",
     "text": [
      "{'chatid': 10}\n"
     ]
    }
   ],
   "source": [
    "chatid = requests.post(\"http://localhost:8080/chat/create\").json()\n",
    "print(chatid)"
   ]
  },
  {
   "cell_type": "markdown",
   "metadata": {},
   "source": [
    "### Add Message:"
   ]
  },
  {
   "cell_type": "code",
   "execution_count": 40,
   "metadata": {},
   "outputs": [
    {
     "data": {
      "text/plain": [
       "<Response [500]>"
      ]
     },
     "execution_count": 40,
     "metadata": {},
     "output_type": "execute_result"
    }
   ],
   "source": [
    "new_message = {'userid': 98, 'message': \"Probando\"}\n",
    "requests.post(\"http://localhost:8080/chat/28/addmessage\", data=new_message)"
   ]
  },
  {
   "cell_type": "markdown",
   "metadata": {},
   "source": [
    "### Get messages in chat:"
   ]
  },
  {
   "cell_type": "code",
   "execution_count": 5,
   "metadata": {},
   "outputs": [
    {
     "name": "stdout",
     "output_type": "stream",
     "text": [
      "[['Hey Mike, whats up??'], ['Dude!!! 😀️ Did you watch the game last night?'], ['No, had to work. How was it?'], ['Awesome! Boyander scored 3 goals!'], ['No way! 😮️'], ['Way...'], ['I bet people went crazy'], ['For sure. We stayed at KuboLoco until 6AM.'], ['Motherfucker! Hungover? 😵️'], ['Dead, burried and still suffering! \\U0001f92e️'], ['Paracetamol is your best friend :P'], ['Boyander is the fucking master!'], ['Lets go to have lunch']]\n"
     ]
    }
   ],
   "source": [
    "messages = requests.get('http://localhost:8080/chat/0/list').json()\n",
    "print(messages)"
   ]
  },
  {
   "cell_type": "markdown",
   "metadata": {},
   "source": [
    "### Get messages from user:"
   ]
  },
  {
   "cell_type": "code",
   "execution_count": 43,
   "metadata": {},
   "outputs": [
    {
     "name": "stdout",
     "output_type": "stream",
     "text": [
      "[['Hey Mike, whats up??'], ['No, had to work. How was it?'], ['No way! 😮️'], ['I bet people went crazy'], ['Motherfucker! Hungover? 😵️'], ['Sure, boss.'], ['I do! I just dont feel appreciated in my job'], ['I dunno...'], ['Maybe'], ['Thank you, boss! I feel much better...'], ['Paracetamol is your best friend :P']]\n"
     ]
    }
   ],
   "source": [
    "messages = requests.get('http://localhost:8080/user/0/listmessages').json()\n",
    "print(messages)"
   ]
  },
  {
   "cell_type": "markdown",
   "metadata": {},
   "source": [
    "### Sentiment analysis:"
   ]
  },
  {
   "cell_type": "code",
   "execution_count": 6,
   "metadata": {},
   "outputs": [
    {
     "name": "stderr",
     "output_type": "stream",
     "text": [
      "[nltk_data] Downloading package vader_lexicon to\n",
      "[nltk_data]     /home/mariobru/nltk_data...\n",
      "[nltk_data]   Package vader_lexicon is already up-to-date!\n"
     ]
    },
    {
     "data": {
      "text/plain": [
       "{'neg': 0.0, 'neu': 0.0, 'pos': 1.0, 'compound': 0.5719}"
      ]
     },
     "execution_count": 6,
     "metadata": {},
     "output_type": "execute_result"
    }
   ],
   "source": [
    "import nltk # install nltk\n",
    "nltk.download('vader_lexicon')\n",
    "from nltk.sentiment.vader import SentimentIntensityAnalyzer\n",
    "from textblob import TextBlob\n",
    "\n",
    "sid = SentimentIntensityAnalyzer()\n",
    "\n",
    "sid.polarity_scores(\"Happy\")"
   ]
  },
  {
   "cell_type": "code",
   "execution_count": 35,
   "metadata": {},
   "outputs": [],
   "source": [
    "polarity = 0\n",
    "subjectivity = 0\n",
    "for e in messages:\n",
    "\n",
    "    polarity += TextBlob(*e).sentiment[0]\n",
    "    subjectivity += TextBlob(*e).sentiment[1]"
   ]
  },
  {
   "cell_type": "code",
   "execution_count": 36,
   "metadata": {},
   "outputs": [
    {
     "name": "stdout",
     "output_type": "stream",
     "text": [
      "The polarity mean is 0.04423076923076925 and the subjectivity mean is 0.37478632478632473\n"
     ]
    }
   ],
   "source": [
    "polarity_mean = polarity/len(messages)\n",
    "subjectivity_mean = subjectivity/len(messages)\n",
    "\n",
    "print(\"The polarity mean is {} and the subjectivity mean is {}\".format(polarity_mean,subjectivity_mean))"
   ]
  },
  {
   "cell_type": "code",
   "execution_count": 37,
   "metadata": {},
   "outputs": [],
   "source": [
    "def chatSent(idchat):\n",
    "    id_chat = str(idchat)\n",
    "    URL = 'http://localhost:8080/chat/{}/list'.format(id_chat)\n",
    "    messages = requests.get(URL).json()\n",
    "    polarity = 0\n",
    "    subjectivity = 0\n",
    "    for e in messages:\n",
    "        polarity += TextBlob(*e).sentiment[0]\n",
    "        subjectivity += TextBlob(*e).sentiment[1]\n",
    "    polarity_mean = polarity/len(messages)\n",
    "    subjectivity_mean = subjectivity/len(messages)\n",
    "    return {'Polarity mean': polarity_mean, 'Subjectivity mean': subjectivity_mean}"
   ]
  },
  {
   "cell_type": "code",
   "execution_count": 39,
   "metadata": {},
   "outputs": [
    {
     "data": {
      "text/plain": [
       "{'Polarity mean': 0.04423076923076925,\n",
       " 'Subjectivity mean': 0.37478632478632473}"
      ]
     },
     "execution_count": 39,
     "metadata": {},
     "output_type": "execute_result"
    }
   ],
   "source": [
    "chatSent(0)"
   ]
  },
  {
   "cell_type": "code",
   "execution_count": null,
   "metadata": {},
   "outputs": [],
   "source": []
  },
  {
   "cell_type": "code",
   "execution_count": null,
   "metadata": {},
   "outputs": [],
   "source": []
  }
 ],
 "metadata": {
  "kernelspec": {
   "display_name": "Python 3",
   "language": "python",
   "name": "python3"
  },
  "language_info": {
   "codemirror_mode": {
    "name": "ipython",
    "version": 3
   },
   "file_extension": ".py",
   "mimetype": "text/x-python",
   "name": "python",
   "nbconvert_exporter": "python",
   "pygments_lexer": "ipython3",
   "version": "3.6.9"
  }
 },
 "nbformat": 4,
 "nbformat_minor": 2
}
