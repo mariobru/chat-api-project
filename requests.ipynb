{
 "cells": [
  {
   "cell_type": "code",
   "execution_count": 3,
   "metadata": {},
   "outputs": [
    {
     "name": "stdout",
     "output_type": "stream",
     "text": [
      "[[6, 'Danny Torrances Finger'], [2, 'Leia Organa'], [3, 'Tony Stark'], [4, 'Ellen Ripley'], [5, 'J. Jonah Jameson'], [7, 'Danny Torrance'], [0, 'John Wick'], [1, 'Mike Wazowski'], [8, 'Mario Bru'], [9, 'Felipe Ferrero'], [10, 'Marc Pomar'], [11, 'Julio Porto']]\n"
     ]
    }
   ],
   "source": [
    "import requests\n",
    "\n",
    "data = requests.get('http://localhost:8080/users').json()\n",
    "print(data)"
   ]
  },
  {
   "cell_type": "markdown",
   "metadata": {},
   "source": [
    "### Create User:"
   ]
  },
  {
   "cell_type": "code",
   "execution_count": 25,
   "metadata": {},
   "outputs": [
    {
     "name": "stdout",
     "output_type": "stream",
     "text": [
      "14\n"
     ]
    }
   ],
   "source": [
    "new_name = {'name': 'Paquito'}\n",
    "userid = requests.post(\"http://localhost:8080/user/create\", data=new_name).json()\n",
    "print(userid)"
   ]
  },
  {
   "cell_type": "markdown",
   "metadata": {},
   "source": [
    "### Create chat:"
   ]
  },
  {
   "cell_type": "code",
   "execution_count": 9,
   "metadata": {},
   "outputs": [
    {
     "name": "stdout",
     "output_type": "stream",
     "text": [
      "{'chatid': 10}\n"
     ]
    }
   ],
   "source": [
    "chatid = requests.post(\"http://localhost:8080/chat/create\").json()\n",
    "print(chatid)"
   ]
  },
  {
   "cell_type": "markdown",
   "metadata": {},
   "source": [
    "### Add Message:"
   ]
  },
  {
   "cell_type": "code",
   "execution_count": 44,
   "metadata": {},
   "outputs": [
    {
     "data": {
      "text/plain": [
       "<Response [200]>"
      ]
     },
     "execution_count": 44,
     "metadata": {},
     "output_type": "execute_result"
    }
   ],
   "source": [
    "new_message = {'userid': 11, 'message': 'Lets go to have lunch'}\n",
    "requests.post(\"http://localhost:8080/chat/0/addmessage\", data=new_message)"
   ]
  },
  {
   "cell_type": "markdown",
   "metadata": {},
   "source": [
    "### Get messages in chat:"
   ]
  },
  {
   "cell_type": "code",
   "execution_count": 31,
   "metadata": {},
   "outputs": [
    {
     "name": "stdout",
     "output_type": "stream",
     "text": [
      "[['Hey Mike, whats up??'], ['Dude!!! 😀️ Did you watch the game last night?'], ['No, had to work. How was it?'], ['Awesome! Boyander scored 3 goals!'], ['No way! 😮️'], ['Way...'], ['I bet people went crazy'], ['For sure. We stayed at KuboLoco until 6AM.'], ['Motherfucker! Hungover? 😵️'], ['Dead, burried and still suffering! \\U0001f92e️'], ['Paracetamol is your best friend :P'], ['Boyander is the fucking master!']]\n"
     ]
    }
   ],
   "source": [
    "messages = requests.get('http://localhost:8080/chat/0/list').json()\n",
    "print(messages)"
   ]
  },
  {
   "cell_type": "markdown",
   "metadata": {},
   "source": [
    "### Get messages from user:"
   ]
  },
  {
   "cell_type": "code",
   "execution_count": 23,
   "metadata": {},
   "outputs": [
    {
     "name": "stdout",
     "output_type": "stream",
     "text": [
      "[['Boyander is the fucking master!']]\n"
     ]
    }
   ],
   "source": [
    "messages = requests.get('http://localhost:8080/user/13/listmessages').json()\n",
    "print(messages)"
   ]
  },
  {
   "cell_type": "markdown",
   "metadata": {},
   "source": [
    "### Sentiment analysis:"
   ]
  },
  {
   "cell_type": "code",
   "execution_count": 41,
   "metadata": {},
   "outputs": [
    {
     "name": "stderr",
     "output_type": "stream",
     "text": [
      "[nltk_data] Downloading package vader_lexicon to\n",
      "[nltk_data]     /home/mariobru/nltk_data...\n",
      "[nltk_data]   Package vader_lexicon is already up-to-date!\n"
     ]
    },
    {
     "data": {
      "text/plain": [
       "{'neg': 0.0, 'neu': 0.0, 'pos': 1.0, 'compound': 0.5719}"
      ]
     },
     "execution_count": 41,
     "metadata": {},
     "output_type": "execute_result"
    }
   ],
   "source": [
    "import nltk # install nltk\n",
    "nltk.download('vader_lexicon')\n",
    "from nltk.sentiment.vader import SentimentIntensityAnalyzer\n",
    "from textblob import TextBlob\n",
    "\n",
    "sid = SentimentIntensityAnalyzer()\n",
    "\n",
    "sid.polarity_scores(\"Happy\")"
   ]
  },
  {
   "cell_type": "code",
   "execution_count": 43,
   "metadata": {},
   "outputs": [
    {
     "name": "stdout",
     "output_type": "stream",
     "text": [
      "Hey Mike, whats up??\n",
      "{'neg': 0.0, 'neu': 1.0, 'pos': 0.0, 'compound': 0.0}\n",
      "Sentiment(polarity=0.0, subjectivity=0.0)\n",
      "Dude!!! 😀️ Did you watch the game last night?\n",
      "{'neg': 0.0, 'neu': 1.0, 'pos': 0.0, 'compound': 0.0}\n",
      "Sentiment(polarity=-0.2, subjectivity=0.23333333333333334)\n",
      "No, had to work. How was it?\n",
      "{'neg': 0.268, 'neu': 0.732, 'pos': 0.0, 'compound': -0.296}\n",
      "Sentiment(polarity=0.0, subjectivity=0.0)\n",
      "Awesome! Boyander scored 3 goals!\n",
      "{'neg': 0.0, 'neu': 0.39, 'pos': 0.61, 'compound': 0.6892}\n",
      "Sentiment(polarity=1.0, subjectivity=1.0)\n",
      "No way! 😮️\n",
      "{'neg': 0.555, 'neu': 0.445, 'pos': 0.0, 'compound': -0.3595}\n",
      "Sentiment(polarity=0.0, subjectivity=0.0)\n",
      "Way...\n",
      "{'neg': 0.0, 'neu': 1.0, 'pos': 0.0, 'compound': 0.0}\n",
      "Sentiment(polarity=0.0, subjectivity=0.0)\n",
      "I bet people went crazy\n",
      "{'neg': 0.444, 'neu': 0.556, 'pos': 0.0, 'compound': -0.34}\n",
      "Sentiment(polarity=-0.6, subjectivity=0.9)\n",
      "For sure. We stayed at KuboLoco until 6AM.\n",
      "{'neg': 0.0, 'neu': 0.753, 'pos': 0.247, 'compound': 0.3182}\n",
      "Sentiment(polarity=0.5, subjectivity=0.8888888888888888)\n",
      "Motherfucker! Hungover? 😵️\n",
      "{'neg': 0.71, 'neu': 0.29, 'pos': 0.0, 'compound': -0.7088}\n",
      "Sentiment(polarity=0.0, subjectivity=0.0)\n",
      "Dead, burried and still suffering! 🤮️\n",
      "{'neg': 0.658, 'neu': 0.342, 'pos': 0.0, 'compound': -0.8268}\n",
      "Sentiment(polarity=-0.25, subjectivity=0.4)\n",
      "Paracetamol is your best friend :P\n",
      "{'neg': 0.0, 'neu': 0.222, 'pos': 0.778, 'compound': 0.8893}\n",
      "Sentiment(polarity=0.875, subjectivity=0.65)\n",
      "Boyander is the fucking master!\n",
      "{'neg': 0.0, 'neu': 1.0, 'pos': 0.0, 'compound': 0.0}\n",
      "Sentiment(polarity=-0.75, subjectivity=0.8)\n"
     ]
    }
   ],
   "source": [
    "for e in messages:\n",
    "    print(*e)\n",
    "    print(sid.polarity_scores(*e))\n",
    "    print(TextBlob(*e).sentiment)"
   ]
  },
  {
   "cell_type": "code",
   "execution_count": null,
   "metadata": {},
   "outputs": [],
   "source": []
  }
 ],
 "metadata": {
  "kernelspec": {
   "display_name": "Python 3",
   "language": "python",
   "name": "python3"
  },
  "language_info": {
   "codemirror_mode": {
    "name": "ipython",
    "version": 3
   },
   "file_extension": ".py",
   "mimetype": "text/x-python",
   "name": "python",
   "nbconvert_exporter": "python",
   "pygments_lexer": "ipython3",
   "version": "3.6.9"
  }
 },
 "nbformat": 4,
 "nbformat_minor": 2
}
